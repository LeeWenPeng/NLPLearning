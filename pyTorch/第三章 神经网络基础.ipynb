{
 "cells": [
  {
   "attachments": {},
   "cell_type": "markdown",
   "metadata": {},
   "source": [
    "# 神经网络基础"
   ]
  },
  {
   "attachments": {},
   "cell_type": "markdown",
   "metadata": {},
   "source": [
    "## 1 感知器\n",
    "\n",
    "模仿生物神经元的单层神经网络\n",
    "\n",
    "1. 输入$x$\n",
    "2. 输出$y$\n",
    "3. \"旋钮\"\n",
    "   1. 权重$w$ —— 通过对数据的学习得到\n",
    "   2. 偏差$b$ —— 通过对数据的学习得到\n",
    "   3. 激活函数$f$ —— 针对目标函数的设计\n",
    "\n",
    "$$\n",
    "y = f(wx + b)\n",
    "$$\n"
   ]
  }
 ],
 "metadata": {
  "language_info": {
   "name": "python"
  },
  "orig_nbformat": 4
 },
 "nbformat": 4,
 "nbformat_minor": 2
}
